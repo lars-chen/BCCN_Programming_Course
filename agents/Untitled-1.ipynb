{
 "cells": [
  {
   "cell_type": "code",
   "execution_count": 13,
   "metadata": {},
   "outputs": [],
   "source": [
    "from common import *\n",
    "import numpy as np\n",
    "import time"
   ]
  },
  {
   "cell_type": "code",
   "execution_count": 16,
   "metadata": {},
   "outputs": [
    {
     "data": {
      "text/plain": [
       "array([[ 0,  0, -1,  1,  1,  1,  0],\n",
       "       [ 0,  0, -1,  0, -1,  0,  0],\n",
       "       [ 0,  0,  0,  0,  0,  0,  0],\n",
       "       [ 0,  0,  0,  0,  0,  0,  0],\n",
       "       [ 0,  0,  0,  0,  0,  0,  0],\n",
       "       [ 0,  0,  0,  0,  0,  0,  0]], dtype=int8)"
      ]
     },
     "execution_count": 16,
     "metadata": {},
     "output_type": "execute_result"
    }
   ],
   "source": [
    "board = initialize_game_state()\n",
    "board = apply_player_action(board, 4, PLAYER1)\n",
    "board = apply_player_action(board, 4, PLAYER2)\n",
    "board = apply_player_action(board, 3, PLAYER1)\n",
    "board = apply_player_action(board, 2, PLAYER2)\n",
    "board1 = apply_player_action(board, 5, PLAYER1)\n",
    "board2 = apply_player_action(board1, 2, PLAYER2)\n",
    "\n",
    "board2"
   ]
  },
  {
   "cell_type": "code",
   "execution_count": null,
   "metadata": {},
   "outputs": [],
   "source": [
    "ITERATIONS = 1000\n",
    "player = PLAYER1"
   ]
  },
  {
   "cell_type": "code",
   "execution_count": null,
   "metadata": {},
   "outputs": [],
   "source": []
  },
  {
   "cell_type": "code",
   "execution_count": 38,
   "metadata": {},
   "outputs": [],
   "source": [
    "class Node():\n",
    "    \n",
    "    def __init__(self, player, play, board, parent=None):\n",
    "        self.board = board\n",
    "        self.player = player  # 1 for maximizer or -1 for minimizer\n",
    "        self.parent = parent\n",
    "        self.play = play    \n",
    "        self.children = {}\n",
    "\n",
    "        \n",
    "        if is_terminal_board(self.board, self.player):\n",
    "            self.is_terminal = True\n",
    "        else:\n",
    "            self.is_terminal = False  \n",
    "        self.is_leaf = self.is_terminal\n",
    "        \n",
    "        self.visits = 0\n",
    "        self.total_score = 0\n",
    "    \n",
    "    def valid_actions(self):\n",
    "        return np.where(self.board[-1, :] == NO_PLAYER)[0] \n",
    "        \n",
    "    \n",
    "class MCTS():\n",
    "    \n",
    "    def __init__(self, iterations, exploration = 1/np.sqrt(2)):\n",
    "        self.iterations = iterations\n",
    "        self.exploration = exploration\n",
    "\n",
    "    def search(self, root_node):\n",
    "        for iteration in self.iterations:\n",
    "            pass\n",
    "        \n",
    "    def select(self, node):\n",
    "        while not node.is_terminal:\n",
    "            if not node.is_leaf:\n",
    "                node = self.get_best_move()\n",
    "            else:\n",
    "                node = self.expand(node)\n",
    "        return node\n",
    "        \n",
    "    def expand(self, node):\n",
    "        actions = node.valid_actions()\n",
    "        \n",
    "        \n",
    "    def simulate(self, node):\n",
    "        while not node.is_terminal:\n",
    "            action = np.random.choice(node.get_valid_actions())\n",
    "            child = apply_player_action(node.board, action, player)\n",
    "            \n",
    "            player *= -1\n",
    "        \n",
    "    \n",
    "    def backpropogate(node, score):\n",
    "        while node is not None:\n",
    "            node.visits += 1\n",
    "            node.total_score += score\n",
    "            node = node.parent\n",
    "    \n",
    "    def get_best_move(self, node, exploration):\n",
    "        best_score = np.NINF\n",
    "        best_children = []\n",
    "        \n",
    "        for child_node in node.children.values():        \n",
    "            move_score = child_node.player * child_node.score / child_node.visits + self.exploration * np.sqrt(np.log(child_node.visits/child_node.visits))\n",
    "        \n",
    "        if move_score > best_score:\n",
    "            best_score = move_score\n",
    "            best_child = [child_node]\n",
    "        elif move_score == best_score:\n",
    "            best_child.append(child_node)\n",
    "            \n",
    "        return np.random.choice(best_children)\n",
    "    \n",
    "  \n",
    "\n",
    "def mcts(board: np.ndarray, player: BoardPiece, saved_state: Optional[SavedState]) -> Tuple[PlayerAction, Optional[SavedState]]:\n",
    "  \n",
    "    valid_columns = np.where(board[-1,:] == NO_PLAYER)[0]\n",
    "    action = np.random.choice(valid_columns)\n",
    "\n",
    "    return action, saved_state"
   ]
  },
  {
   "cell_type": "code",
   "execution_count": 44,
   "metadata": {},
   "outputs": [],
   "source": [
    "node_test = Node(board1, board, PLAYER1)"
   ]
  },
  {
   "cell_type": "code",
   "execution_count": 37,
   "metadata": {},
   "outputs": [
    {
     "data": {
      "text/plain": [
       "0"
      ]
     },
     "execution_count": 37,
     "metadata": {},
     "output_type": "execute_result"
    }
   ],
   "source": [
    "no"
   ]
  },
  {
   "cell_type": "code",
   "execution_count": 43,
   "metadata": {},
   "outputs": [
    {
     "ename": "AttributeError",
     "evalue": "'Node' object has no attribute 'is_root'",
     "output_type": "error",
     "traceback": [
      "\u001b[1;31m---------------------------------------------------------------------------\u001b[0m",
      "\u001b[1;31mAttributeError\u001b[0m                            Traceback (most recent call last)",
      "\u001b[1;32m~\\AppData\\Local\\Temp/ipykernel_17944/242352445.py\u001b[0m in \u001b[0;36m<module>\u001b[1;34m\u001b[0m\n\u001b[1;32m----> 1\u001b[1;33m \u001b[0mnode_test\u001b[0m\u001b[1;33m.\u001b[0m\u001b[0mis_root\u001b[0m\u001b[1;33m\u001b[0m\u001b[1;33m\u001b[0m\u001b[0m\n\u001b[0m",
      "\u001b[1;31mAttributeError\u001b[0m: 'Node' object has no attribute 'is_root'"
     ]
    }
   ],
   "source": []
  },
  {
   "cell_type": "code",
   "execution_count": null,
   "metadata": {},
   "outputs": [],
   "source": []
  }
 ],
 "metadata": {
  "interpreter": {
   "hash": "8e209e7135b97cfefc615c5d44a65218b4ebfee286a93b4ab14146d55aa7b52f"
  },
  "kernelspec": {
   "display_name": "Python 3.9.7 ('BCCN')",
   "language": "python",
   "name": "python3"
  },
  "language_info": {
   "codemirror_mode": {
    "name": "ipython",
    "version": 3
   },
   "file_extension": ".py",
   "mimetype": "text/x-python",
   "name": "python",
   "nbconvert_exporter": "python",
   "pygments_lexer": "ipython3",
   "version": "3.9.7"
  },
  "orig_nbformat": 4
 },
 "nbformat": 4,
 "nbformat_minor": 2
}
