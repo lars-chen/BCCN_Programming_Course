{
 "cells": [
  {
   "cell_type": "code",
   "execution_count": 205,
   "metadata": {},
   "outputs": [],
   "source": [
    "from common import *\n",
    "import numpy as np\n",
    "from typing import Callable, Optional, Tuple\n",
    "\n",
    "def sorted_valid_columns(board: np.ndarray):\n",
    "    \"\"\"\n",
    "    Returns an array of columns that may be played into that are sorted from middle to outside.\n",
    "    \"\"\"\n",
    "    valid_columns = np.where(board[-1,:] == NO_PLAYER)[0]  # check the top row of the board to see where there are open spaces\n",
    "    mid = int(np.ceil(len(valid_columns)/2))\n",
    "    sorted_valid = np.empty(len(valid_columns))\n",
    "    sorted_valid[0::2] = np.flip(valid_columns[:mid])\n",
    "    sorted_valid[1::2] = valid_columns[mid:]\n",
    "\n",
    "    return sorted_valid.astype(np.int8)\n",
    "    \n",
    "def connected_n(board: np.ndarray, player: BoardPiece):\n",
    "\n",
    "    return\n",
    "\n",
    "def heuristic(board: np.ndarray, player: BoardPiece, maximizingPlayer: bool):\n",
    "    \"\"\"\n",
    "    Returns heuristic score of the current gamestate depending on if the player is maximizing or minimizing.\n",
    "    \"\"\"\n",
    "    heur_value = 0\n",
    "    other_player = PLAYER1 if player == PLAYER2 else PLAYER2\n",
    "\n",
    "    if check_end_state(board, player) == GameState.IS_WIN:\n",
    "        heur_value += 1000000000\n",
    "\n",
    "    if check_end_state(board, other_player) == GameState.IS_WIN:\n",
    "        heur_value -= 100000000\n",
    "\n",
    "    if not maximizingPlayer:\n",
    "        heur_value = -heur_value\n",
    "    return heur_value\n",
    "\n",
    "def is_terminal_board(board: np.ndarray, player: BoardPiece):\n",
    "    \"\"\"\n",
    "    Returns True only if the game is over at the current state.\n",
    "    \"\"\"\n",
    "    if check_end_state(board, player) != GameState.STILL_PLAYING:\n",
    "        return True\n",
    "    else: \n",
    "        return False\n",
    "\n",
    "def alphabeta(board: np.ndarray, player: BoardPiece, depth: np.int8, maximizingPlayer = True, alpha = np.NINF, beta = np.PINF):\n",
    "    valid_actions = sorted_valid_columns(board)\n",
    "    best_action = None\n",
    "    other_player = PLAYER1 if player == PLAYER2 else PLAYER2\n",
    "\n",
    "    if (depth == 0) or (is_terminal_board(board, player)):\n",
    "         return -1, heuristic(board, player, maximizingPlayer)\n",
    "    if maximizingPlayer:\n",
    "        value = np.NINF\n",
    "        for move in valid_actions:\n",
    "            child = apply_player_action(board, move, player)\n",
    "            new_value = alphabeta(child, other_player, depth - 1, False, alpha, beta)[1]\n",
    "            if new_value > value:\n",
    "                best_action = move\n",
    "                value = new_value\n",
    "            if value >= beta:\n",
    "                break \n",
    "            alpha = max(alpha, value)\n",
    "        return best_action, value\n",
    "    else:\n",
    "        value = np.PINF\n",
    "        for move in valid_actions:\n",
    "            child = apply_player_action(board, move, player)\n",
    "            new_value = alphabeta(child, other_player, depth - 1, True, alpha, beta)[1]\n",
    "            if new_value < value:\n",
    "                best_action = move\n",
    "                value = new_value\n",
    "            if value <= alpha:\n",
    "                break \n",
    "            beta = min(beta, value)\n",
    "        return best_action, value\n",
    "\n",
    "def generate_move_minimax(\n",
    "    board: np.ndarray, player: BoardPiece, saved_state: Optional[SavedState]\n",
    ") -> Tuple[PlayerAction, Optional[SavedState]]:\n",
    "    depth = 4\n",
    "    action, value = alphabeta(board, player, depth, True)\n",
    "    print('action:', action, 'value: ', value)\n",
    "    return action, saved_state"
   ]
  },
  {
   "cell_type": "code",
   "execution_count": 206,
   "metadata": {},
   "outputs": [],
   "source": [
    "from scipy import signal"
   ]
  },
  {
   "cell_type": "code",
   "execution_count": 538,
   "metadata": {},
   "outputs": [],
   "source": [
    "board1 = initialize_game_state()\n",
    "board1 = apply_player_action(board1, 3, PLAYER1)\n",
    "board1 = apply_player_action(board1, 4, PLAYER2)\n",
    "board1 = apply_player_action(board1, 4, PLAYER1)\n",
    "board1 = apply_player_action(board1, 5, PLAYER2)\n",
    "board1 = apply_player_action(board1, 5, PLAYER1)\n",
    "board1 = apply_player_action(board1, 6, PLAYER2)\n",
    "board1 = apply_player_action(board1, 5, PLAYER1)\n",
    "board1 = apply_player_action(board1, 5, PLAYER2)\n",
    "board1 = apply_player_action(board1, 6, PLAYER1)\n",
    "board1 = apply_player_action(board1, 0, PLAYER2)\n",
    "board1 = apply_player_action(board1, 0, PLAYER2)\n",
    "board1 = apply_player_action(board1, 0, PLAYER2)\n",
    "board1 = apply_player_action(board1, 0, PLAYER2)\n",
    "\n",
    "\n",
    "board1 = apply_player_action(board1, 2, PLAYER1)\n",
    "board1 = apply_player_action(board1, 2, PLAYER1)\n",
    "board1 = apply_player_action(board1, 2, PLAYER1)\n",
    "\n"
   ]
  },
  {
   "cell_type": "code",
   "execution_count": 539,
   "metadata": {},
   "outputs": [
    {
     "name": "stdout",
     "output_type": "stream",
     "text": [
      "|==============|\n",
      "|              |\n",
      "|              |\n",
      "|O         O   |\n",
      "|O   X     X   |\n",
      "|O   X   X X X |\n",
      "|O   X X O O O |\n",
      "|==============|\n",
      "|0 1 2 3 4 5 6 |\n"
     ]
    }
   ],
   "source": [
    "print(pretty_print_board(board1))"
   ]
  },
  {
   "cell_type": "code",
   "execution_count": 535,
   "metadata": {},
   "outputs": [],
   "source": [
    "def connected_n(board: np.ndarray, player: BoardPiece, n: np.int8, num_rows = np.int8(6), num_columns = np.int8(7)):\n",
    "    count_n = 0\n",
    "    \n",
    "    horizontal_kernel = np.ones((1,4),dtype=np.int8)\n",
    "    vertical_kernel = np.ones((4,1),dtype=np.int8)\n",
    "    diagonal_kernel = np.eye(4, dtype=np.int8)\n",
    "    off_diagonal_kernel = np.eye(4, dtype=np.int8)[::-1]\n",
    "    kernels = [vertical_kernel, horizontal_kernel, off_diagonal_kernel, diagonal_kernel]\n",
    "\n",
    "    for kernel in kernels:\n",
    "        kernel_width = kernel.shape[1]\n",
    "        kernel_height = kernel.shape[0]\n",
    "        for i in range(num_rows - kernel_height + 1):\n",
    "            for j in range(num_columns - kernel_width + 1):\n",
    "                sample_array = board[i:i+kernel_height, j:j+kernel_width][np.where(kernel)]\n",
    "                if (np.sum(sample_array[sample_array == player]) == player*n) and (len(sample_array[sample_array == NO_PLAYER]) == 4-n):\n",
    "                    count_n += 1\n",
    "    return count_n\n",
    "        "
   ]
  },
  {
   "cell_type": "code",
   "execution_count": 540,
   "metadata": {},
   "outputs": [
    {
     "data": {
      "text/plain": [
       "1"
      ]
     },
     "execution_count": 540,
     "metadata": {},
     "output_type": "execute_result"
    }
   ],
   "source": [
    "connected_n(board1, PLAYER2, 4)"
   ]
  },
  {
   "cell_type": "code",
   "execution_count": 541,
   "metadata": {},
   "outputs": [
    {
     "name": "stdout",
     "output_type": "stream",
     "text": [
      "\u001b[0;37;40m Normal text\n",
      "\n"
     ]
    }
   ],
   "source": [
    "print(\"\\033[0;37;40m Normal text\\n\")"
   ]
  },
  {
   "cell_type": "code",
   "execution_count": 544,
   "metadata": {},
   "outputs": [
    {
     "name": "stdout",
     "output_type": "stream",
     "text": [
      "[1;31;40m Bright Red\n"
     ]
    }
   ],
   "source": [
    "print(\"\\033[1;31;40m Bright Red\" )"
   ]
  },
  {
   "cell_type": "code",
   "execution_count": null,
   "metadata": {},
   "outputs": [],
   "source": []
  }
 ],
 "metadata": {
  "interpreter": {
   "hash": "8e209e7135b97cfefc615c5d44a65218b4ebfee286a93b4ab14146d55aa7b52f"
  },
  "kernelspec": {
   "display_name": "Python 3.9.7 ('BCCN')",
   "language": "python",
   "name": "python3"
  },
  "language_info": {
   "codemirror_mode": {
    "name": "ipython",
    "version": 3
   },
   "file_extension": ".py",
   "mimetype": "text/x-python",
   "name": "python",
   "nbconvert_exporter": "python",
   "pygments_lexer": "ipython3",
   "version": "3.9.7"
  },
  "orig_nbformat": 4
 },
 "nbformat": 4,
 "nbformat_minor": 2
}
